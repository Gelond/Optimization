{
 "cells": [
  {
   "cell_type": "markdown",
   "metadata": {
    "id": "CujifDkXoeqt"
   },
   "source": [
    "**Nom et Prénom :**  ....................\n",
    "\n",
    "(Ce mini-projet peut être faire seul ou en binôme)"
   ]
  },
  {
   "cell_type": "markdown",
   "metadata": {
    "id": "kKiJgpXvf7A_"
   },
   "source": [
    "# Mini projet :  Méthode de gradient à pas spectral\n",
    "----\n",
    "Le but de ce mini-projet est de programmer, valider et expérimenter la méthode de gradient avec pas spectral.\n",
    "\n",
    "N.B: N'hésitez pas à diviser vos codes en plusieurs cellules quand c'est possible pour faciliter leurs lectures et éxecutions.\n",
    "\n",
    "----\n",
    "On introduit les deux notations :\n",
    "\n",
    "$$ \\left\\{\n",
    "\\begin{array}{ccc}\n",
    "s^{(k-1)} & = & u^{(k)} - u^{(k-1)} \\\\\n",
    "y^{(k-1)} & = & \\nabla J(u^{(k)}) - \\nabla J(u^{(k-1)}) \\\\\n",
    " \\end{array}\n",
    "\\right.\n",
    "$$\n",
    "\n",
    "**Etape 1**\n",
    "\n",
    "Reprendre un algorithme de minimisation par gradient à pas variable (ou à pas fixe) :\n",
    "\n",
    "\\begin{equation}\n",
    "u^{(0)} \\textrm{ donné}; \\quad u^{(k+1)} = u^{(k)} - \\rho_k \\nabla J(u^{(k)})\n",
    "\\end{equation}\n",
    "\n",
    "\n",
    "> Modifier cet algorithme de sorte à ce que le pas $\\rho_k$ soit donné par l'une des deux variantes, dites de Barzilaï et Borwein :\n",
    "\n",
    "$$\n",
    "\\rho^1_k = \\dfrac{(s^{(k-1)} ,s^{(k-1)})}{(y^{(k-1)} ,s^{(k-1)})} ;\n",
    "\\qquad \n",
    "\\rho^2_k = \\dfrac{(s^{(k-1)} ,y^{(k-1)})}{(y^{(k-1)} ,y^{(k-1)})}; \n",
    "\\quad \n",
    "\\text{ pour } k\\geq 1\n",
    "$$\n",
    "Cet algorithme (noté BB1 et BB2 selon variante) nécessite donc un pré-calcul du vecteur $u^{(1)}$ avec un pas initial $\\rho_0$. A vous de choisir ce premier pas $\\rho_0$ comme vous voulez.\n"
   ]
  },
  {
   "cell_type": "code",
   "execution_count": 1,
   "metadata": {
    "id": "MosT5P_kmz4T"
   },
   "outputs": [],
   "source": [
    "import numpy as np"
   ]
  },
  {
   "cell_type": "code",
   "execution_count": null,
   "metadata": {},
   "outputs": [],
   "source": [
    "## implémenter l'algorithme BB1 "
   ]
  },
  {
   "cell_type": "code",
   "execution_count": null,
   "metadata": {
    "id": "A2ROt0ZMsxzU"
   },
   "outputs": [],
   "source": [
    "## implémenter l'algorithme BB2"
   ]
  },
  {
   "cell_type": "markdown",
   "metadata": {
    "id": "G0PYDmhfmdy4"
   },
   "source": [
    "----\n",
    "**Etape 2**\n",
    "\n",
    "> Effectuer les tests de validation pour les fonctions quadratiques suivantes ($N=10$): \n",
    "\n",
    "$$J_1(v) = \\sum_{i=1}^{i=N}{(v_i - 1)^2}, \\quad J_2(v) = \\sum_{i=1}^{i=N}{(v_i - i)^2}$$\n"
   ]
  },
  {
   "cell_type": "code",
   "execution_count": null,
   "metadata": {
    "id": "e5MgYHQSmzD7"
   },
   "outputs": [],
   "source": [
    "# Compléter ici"
   ]
  },
  {
   "cell_type": "markdown",
   "metadata": {
    "id": "Jy4mCdyemTew"
   },
   "source": [
    "----\n",
    "**Etape 3**\n",
    "\n",
    "On considère les fonctions suivantes (en dimension $N$): \n",
    "\n",
    "$$\n",
    "J_5(v) =\\frac{1}{2}(Av,v)-(f,v) + \\sum_{i=1}^{i=N}{(v_i)^2}, \\quad \\quad \\quad \n",
    "J_6(v) =\\frac{1}{2}(Av,v)-(f,v) + \\sum_{i=1}^{i=N}{(v_i)^4}\n",
    "$$\n",
    "\n",
    "avec $f=(1,\\ldots,1)$ et la matrice $A = {\\rm tridiag}[-1, 2, -1]$ et la fonction de Rosenbrock \n",
    "\n",
    "$$\n",
    "J_R(v) = \\sum_{i=1}^{N-1}(v_{i+1}-v_i^2)^2 + \\sum_{i=1}^{N-1} (v_i - 1)^2\n",
    "$$\n",
    "\n",
    "> Minimiser les fonctions $J_5$, $J_6$  et $J_R$ par BB1 et par BB2 (pour $N=10, 20, 40$), et comparer les performances de ces deux variantes en traçant sur un même graphique les courbes BB1 et BB2 de $J(u^{(k)})$ en fonction des itérations $k$."
   ]
  },
  {
   "cell_type": "code",
   "execution_count": null,
   "metadata": {
    "id": "dQpuSZ6Umx1n"
   },
   "outputs": [],
   "source": [
    "# Compléter ici"
   ]
  },
  {
   "cell_type": "markdown",
   "metadata": {
    "id": "Z9MYg6DKkQ_2"
   },
   "source": [
    "**Etape 4**\n",
    "\n",
    "> Comparer pour la fonction $J_R$ les performances des méthodes BB1 (ou BB2) et de l'algorithme NLCG (Fletcher-Reeves à pas constant) développé en TP2 : Comme avant, cette comparaison doit être faite en traçant les courbes de $J(u^{(k)})$ en fonction des itérations $k$ pour les différents algorithmes. \n",
    "\n",
    "> Refaire la même chose pour la fonction $J_H$ (du TP1).\n",
    "\n",
    "On rappelle que $J_H$ est donnée par $J_H (x, y) = (x^2 +y−2)^2 +(y^2 −2x+1)^2$."
   ]
  },
  {
   "cell_type": "code",
   "execution_count": null,
   "metadata": {
    "id": "3qd0djtRf7Be"
   },
   "outputs": [],
   "source": [
    "# Compléter ici "
   ]
  }
 ],
 "metadata": {
  "colab": {
   "provenance": []
  },
  "kernelspec": {
   "display_name": "Python 3 (ipykernel)",
   "language": "python",
   "name": "python3"
  },
  "language_info": {
   "codemirror_mode": {
    "name": "ipython",
    "version": 3
   },
   "file_extension": ".py",
   "mimetype": "text/x-python",
   "name": "python",
   "nbconvert_exporter": "python",
   "pygments_lexer": "ipython3",
   "version": "3.10.9"
  },
  "toc": {
   "base_numbering": 1,
   "nav_menu": {},
   "number_sections": true,
   "sideBar": true,
   "skip_h1_title": false,
   "title_cell": "Table of Contents",
   "title_sidebar": "Contents",
   "toc_cell": false,
   "toc_position": {},
   "toc_section_display": true,
   "toc_window_display": false
  },
  "varInspector": {
   "cols": {
    "lenName": 16,
    "lenType": 16,
    "lenVar": 40
   },
   "kernels_config": {
    "python": {
     "delete_cmd_postfix": "",
     "delete_cmd_prefix": "del ",
     "library": "var_list.py",
     "varRefreshCmd": "print(var_dic_list())"
    },
    "r": {
     "delete_cmd_postfix": ") ",
     "delete_cmd_prefix": "rm(",
     "library": "var_list.r",
     "varRefreshCmd": "cat(var_dic_list()) "
    }
   },
   "types_to_exclude": [
    "module",
    "function",
    "builtin_function_or_method",
    "instance",
    "_Feature"
   ],
   "window_display": false
  }
 },
 "nbformat": 4,
 "nbformat_minor": 1
}
